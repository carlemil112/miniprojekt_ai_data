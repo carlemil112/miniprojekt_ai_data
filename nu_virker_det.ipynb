{
 "cells": [
  {
   "cell_type": "code",
   "execution_count": null,
   "metadata": {},
   "outputs": [],
   "source": [
    "import pandas as pd\n",
    "import matplotlib.pyplot as plt\n",
    "import numpy as np\n",
    "\n",
    "\n",
    "df = pd.read_csv('NFL.csv')\n",
    "\n",
    "print(df.info())\n",
    "print(df.describe())\n",
    "\n",
    "df.loc[df < 'NA'] = np.nan\n",
    "\n",
    "def plot_missing_values(data):\n",
    "    missing_counts = data.isnull().sum()\n",
    "    \n",
    "    plt.figure(figsize=(10, 5))\n",
    "    missing_counts.plot(kind='bar', color='red')\n",
    "    plt.xlabel(\"Features\")\n",
    "    plt.ylabel(\"Number of Missing Values\")\n",
    "    plt.title(\"Missing Values per Feature\")\n",
    "    plt.xticks(rotation=45)\n",
    "    plt.show()\n",
    "\n",
    "plot_missing_values(df)"
   ]
  }
 ],
 "metadata": {
  "kernelspec": {
   "display_name": "base",
   "language": "python",
   "name": "python3"
  },
  "language_info": {
   "name": "python",
   "version": "3.12.4"
  }
 },
 "nbformat": 4,
 "nbformat_minor": 2
}
